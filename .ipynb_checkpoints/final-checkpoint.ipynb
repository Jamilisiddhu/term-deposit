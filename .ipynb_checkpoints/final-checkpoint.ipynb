{
 "cells": [
  {
   "cell_type": "code",
   "execution_count": 42,
   "id": "5e29575d",
   "metadata": {},
   "outputs": [],
   "source": [
    "import csv\n",
    "import math\n",
    "from collections import Counter"
   ]
  },
  {
   "cell_type": "code",
   "execution_count": 43,
   "id": "462082b7",
   "metadata": {},
   "outputs": [],
   "source": [
    "# ---------- 1. Preprocessing ----------"
   ]
  },
  {
   "cell_type": "code",
   "execution_count": 44,
   "id": "b62a553f",
   "metadata": {},
   "outputs": [],
   "source": [
    "def read_csv(path):\n",
    "    with open(path, 'r') as file:\n",
    "        reader = csv.reader(file, delimiter=';')\n",
    "        header = next(reader)\n",
    "        data = [row for row in reader]\n",
    "    return header, data"
   ]
  },
  {
   "cell_type": "code",
   "execution_count": 45,
   "id": "d7601cfd",
   "metadata": {},
   "outputs": [],
   "source": [
    "def encode_data(header, data):\n",
    "    encoders = {}\n",
    "    encoded_data = []\n",
    "    target_col_index = len(header) - 1\n",
    "    for col_index in range(len(header)):\n",
    "        col_values = [row[col_index].strip('\"') for row in data]\n",
    "        if col_index == target_col_index:\n",
    "            mapping = {'no': 0, 'yes': 1}\n",
    "            for row in data:\n",
    "                row[col_index] = mapping[row[col_index].strip('\"')]\n",
    "            encoders[header[col_index]] = mapping\n",
    "            continue\n",
    "        try:\n",
    "            [float(v) for v in col_values]\n",
    "            encoders[header[col_index]] = None\n",
    "        except:\n",
    "            unique_vals = sorted(set(col_values))\n",
    "            mapping = {val: idx for idx, val in enumerate(unique_vals)}\n",
    "            for row in data:\n",
    "                row[col_index] = mapping[row[col_index].strip('\"')]\n",
    "            encoders[header[col_index]] = mapping\n",
    "    for row in data:\n",
    "        encoded_data.append([float(value) for value in row])\n",
    "    return encoded_data, encoders"
   ]
  },
  {
   "cell_type": "code",
   "execution_count": 46,
   "id": "b8af6bec",
   "metadata": {},
   "outputs": [],
   "source": [
    "def split_dataset(data):\n",
    "    return data[:4000], data[4000:4400], data[4400:]"
   ]
  },
  {
   "cell_type": "code",
   "execution_count": 47,
   "id": "4c763957",
   "metadata": {},
   "outputs": [],
   "source": [
    "def split_features_labels(dataset):\n",
    "    X = [row[:-1] for row in dataset]\n",
    "    y = [row[-1] for row in dataset]\n",
    "    return X, y"
   ]
  },
  {
   "cell_type": "code",
   "execution_count": 48,
   "id": "2b9653cb",
   "metadata": {},
   "outputs": [],
   "source": [
    "# ---------- 2. ID3 ----------"
   ]
  },
  {
   "cell_type": "code",
   "execution_count": 49,
   "id": "0af273cb",
   "metadata": {},
   "outputs": [],
   "source": [
    "def entropy(labels):\n",
    "    total = len(labels)\n",
    "    counts = Counter(labels)\n",
    "    return -sum((count / total) * math.log2(count / total) for count in counts.values())"
   ]
  },
  {
   "cell_type": "code",
   "execution_count": 50,
   "id": "599f53c7",
   "metadata": {},
   "outputs": [],
   "source": [
    "def info_gain(X, y, feature_index):\n",
    "    total_entropy = entropy(y)\n",
    "    subsets = {}\n",
    "    for xi, yi in zip(X, y):\n",
    "        key = xi[feature_index]\n",
    "        if key not in subsets:\n",
    "            subsets[key] = {'X': [], 'y': []}\n",
    "        subsets[key]['X'].append(xi)\n",
    "        subsets[key]['y'].append(yi)\n",
    "    weighted_entropy = 0\n",
    "    total = len(y)\n",
    "    for group in subsets.values():\n",
    "        proportion = len(group['y']) / total\n",
    "        weighted_entropy += proportion * entropy(group['y'])\n",
    "    return total_entropy - weighted_entropy"
   ]
  },
  {
   "cell_type": "code",
   "execution_count": 51,
   "id": "8b7c56af",
   "metadata": {},
   "outputs": [],
   "source": [
    "def build_id3(X, y, features):\n",
    "    if len(set(y)) == 1:\n",
    "        return {'label': y[0]}\n",
    "    if not features:\n",
    "        return {'label': Counter(y).most_common(1)[0][0]}\n",
    "    gains = [info_gain(X, y, f) for f in features]\n",
    "    best_feature = features[gains.index(max(gains))]\n",
    "    tree = {'feature': best_feature, 'branches': {}}\n",
    "    for value in set([xi[best_feature] for xi in X]):\n",
    "        subset_X, subset_y = [], []\n",
    "        for xi, yi in zip(X, y):\n",
    "            if xi[best_feature] == value:\n",
    "                new_xi = xi[:best_feature] + xi[best_feature+1:]\n",
    "                subset_X.append(new_xi)\n",
    "                subset_y.append(yi)\n",
    "        new_features = [f if f < best_feature else f - 1 for f in features if f != best_feature]\n",
    "        tree['branches'][value] = build_id3(subset_X, subset_y, new_features)\n",
    "    return tree"
   ]
  },
  {
   "cell_type": "code",
   "execution_count": 52,
   "id": "6588a08a",
   "metadata": {},
   "outputs": [],
   "source": [
    "def majority_class(tree):\n",
    "    labels = []\n",
    "    def collect_labels(t):\n",
    "        if 'label' in t:\n",
    "            labels.append(t['label'])\n",
    "        else:\n",
    "            for child in t['branches'].values():\n",
    "                collect_labels(child)\n",
    "    collect_labels(tree)\n",
    "    return Counter(labels).most_common(1)[0][0]"
   ]
  },
  {
   "cell_type": "code",
   "execution_count": 53,
   "id": "e2fd21e9",
   "metadata": {},
   "outputs": [],
   "source": [
    "def predict_id3(tree, x):\n",
    "    while 'label' not in tree:\n",
    "        feature_index = tree['feature']\n",
    "        value = x[feature_index]\n",
    "        if value in tree['branches']:\n",
    "            tree = tree['branches'][value]\n",
    "            x = x[:feature_index] + x[feature_index+1:]\n",
    "        else:\n",
    "            return majority_class(tree)\n",
    "    return tree['label']"
   ]
  },
  {
   "cell_type": "code",
   "execution_count": 54,
   "id": "17f23656",
   "metadata": {},
   "outputs": [],
   "source": [
    "# ---------- 3. CART ----------"
   ]
  },
  {
   "cell_type": "code",
   "execution_count": 55,
   "id": "75c477be",
   "metadata": {},
   "outputs": [],
   "source": [
    "def gini_index(groups, classes):\n",
    "    total = sum(len(group) for group in groups)\n",
    "    gini = 0.0\n",
    "    for group in groups:\n",
    "        size = len(group)\n",
    "        if size == 0:\n",
    "            continue\n",
    "        score = 0.0\n",
    "        counts = Counter(group)\n",
    "        for c in classes:\n",
    "            p = counts[c] / size\n",
    "            score += p * p\n",
    "        gini += (1 - score) * (size / total)\n",
    "    return gini"
   ]
  },
  {
   "cell_type": "code",
   "execution_count": 56,
   "id": "5584ad29",
   "metadata": {},
   "outputs": [],
   "source": [
    "def get_best_split(X, y):\n",
    "    best_index, best_value, best_score, best_groups = None, None, float('inf'), None\n",
    "    classes = list(set(y))\n",
    "    for index in range(len(X[0])):\n",
    "        values = set([row[index] for row in X])\n",
    "        for value in values:\n",
    "            left_y = [y[i] for i in range(len(X)) if X[i][index] == value]\n",
    "            right_y = [y[i] for i in range(len(X)) if X[i][index] != value]\n",
    "            gini = gini_index([left_y, right_y], classes)\n",
    "            if gini < best_score:\n",
    "                best_index, best_value, best_score = index, value, gini\n",
    "                best_groups = (\n",
    "                    [X[i] for i in range(len(X)) if X[i][index] == value],\n",
    "                    [y[i] for i in range(len(X)) if X[i][index] == value],\n",
    "                    [X[i] for i in range(len(X)) if X[i][index] != value],\n",
    "                    [y[i] for i in range(len(X)) if X[i][index] != value]\n",
    "                )\n",
    "    return {'index': best_index, 'value': best_value, 'groups': best_groups}"
   ]
  },
  {
   "cell_type": "code",
   "execution_count": 57,
   "id": "1a86d97a",
   "metadata": {},
   "outputs": [],
   "source": [
    "def build_cart(X, y, max_depth, depth=0):\n",
    "    if len(set(y)) == 1 or depth >= max_depth:\n",
    "        return {'label': Counter(y).most_common(1)[0][0]}\n",
    "    node = get_best_split(X, y)\n",
    "    left_X, left_y, right_X, right_y = node['groups']\n",
    "    node['left'] = build_cart(left_X, left_y, max_depth, depth+1)\n",
    "    node['right'] = build_cart(right_X, right_y, max_depth, depth+1)\n",
    "    return node"
   ]
  },
  {
   "cell_type": "code",
   "execution_count": 58,
   "id": "ddd12021",
   "metadata": {},
   "outputs": [],
   "source": [
    "def predict_cart(tree, x):\n",
    "    if 'label' in tree:\n",
    "        return tree['label']\n",
    "    if x[tree['index']] == tree['value']:\n",
    "        return predict_cart(tree['left'], x)\n",
    "    else:\n",
    "        return predict_cart(tree['right'], x)"
   ]
  },
  {
   "cell_type": "code",
   "execution_count": 59,
   "id": "e6495f60",
   "metadata": {},
   "outputs": [],
   "source": [
    "# ---------- 4. Naive Bayes ----------"
   ]
  },
  {
   "cell_type": "code",
   "execution_count": 60,
   "id": "53eb6f46",
   "metadata": {},
   "outputs": [],
   "source": [
    "def train_naive_bayes(X, y):\n",
    "    summaries = {}\n",
    "    class_counts = Counter(y)\n",
    "    total = len(y)\n",
    "    for class_val in class_counts:\n",
    "        indices = [i for i in range(len(y)) if y[i] == class_val]\n",
    "        class_data = [X[i] for i in indices]\n",
    "        summaries[class_val] = {\n",
    "            'prior': class_counts[class_val] / total,\n",
    "            'features': list(zip(*class_data))\n",
    "        }\n",
    "    return summaries"
   ]
  },
  {
   "cell_type": "code",
   "execution_count": 61,
   "id": "901cdbbf",
   "metadata": {},
   "outputs": [],
   "source": [
    "def predict_naive_bayes(model, x):\n",
    "    probs = {}\n",
    "    for class_val, info in model.items():\n",
    "        prob = info['prior']\n",
    "        for i in range(len(x)):\n",
    "            values = info['features'][i]\n",
    "            count = values.count(x[i])\n",
    "            prob *= (count + 1) / (len(values) + len(set(values)))  # Laplace smoothing\n",
    "        probs[class_val] = prob\n",
    "    return max(probs, key=probs.get)"
   ]
  },
  {
   "cell_type": "code",
   "execution_count": 62,
   "id": "26df6d6b",
   "metadata": {},
   "outputs": [],
   "source": [
    "# ---------- 5. Accuracy ----------"
   ]
  },
  {
   "cell_type": "code",
   "execution_count": 63,
   "id": "d26e1e6f",
   "metadata": {},
   "outputs": [],
   "source": [
    "def accuracy(y_true, y_pred):\n",
    "    return sum(1 for yt, yp in zip(y_true, y_pred) if yt == yp) / len(y_true)"
   ]
  },
  {
   "cell_type": "code",
   "execution_count": 64,
   "id": "ceccfd88",
   "metadata": {},
   "outputs": [],
   "source": [
    "# ---------- 6. Run Everything ----------"
   ]
  },
  {
   "cell_type": "code",
   "execution_count": 65,
   "id": "14e82da9",
   "metadata": {},
   "outputs": [],
   "source": [
    "header, raw_data = read_csv('bank.csv')\n",
    "encoded_data, encoders = encode_data(header, raw_data)\n",
    "train_set, val_set, pred_set = split_dataset(encoded_data)"
   ]
  },
  {
   "cell_type": "code",
   "execution_count": 66,
   "id": "b1281122",
   "metadata": {},
   "outputs": [],
   "source": [
    "X_train, y_train = split_features_labels(train_set)\n",
    "X_val, y_val = split_features_labels(val_set)\n",
    "X_pred = [row[:-1] for row in pred_set]"
   ]
  },
  {
   "cell_type": "code",
   "execution_count": 67,
   "id": "8a78c15c",
   "metadata": {},
   "outputs": [],
   "source": [
    "# ID3\n",
    "features = list(range(len(X_train[0])))\n",
    "id3_tree = build_id3(X_train, y_train, features)\n",
    "id3_preds = [predict_id3(id3_tree, x) for x in X_val]\n",
    "acc_id3 = accuracy(y_val, id3_preds)"
   ]
  },
  {
   "cell_type": "code",
   "execution_count": 68,
   "id": "2d6d1cf7",
   "metadata": {},
   "outputs": [],
   "source": [
    "# CART\n",
    "cart_tree = build_cart(X_train, y_train, max_depth=5)\n",
    "cart_preds = [predict_cart(cart_tree, x) for x in X_val]\n",
    "acc_cart = accuracy(y_val, cart_preds)"
   ]
  },
  {
   "cell_type": "code",
   "execution_count": 69,
   "id": "95fd9556",
   "metadata": {},
   "outputs": [],
   "source": [
    "# Naive Bayes\n",
    "nb_model = train_naive_bayes(X_train, y_train)\n",
    "nb_preds = [predict_naive_bayes(nb_model, x) for x in X_val]\n",
    "acc_nb = accuracy(y_val, nb_preds)"
   ]
  },
  {
   "cell_type": "code",
   "execution_count": 70,
   "id": "34facdfd",
   "metadata": {},
   "outputs": [
    {
     "name": "stdout",
     "output_type": "stream",
     "text": [
      "ID3 Accuracy: 85.0%\n",
      "CART Accuracy: 88.5%\n",
      "Naive Bayes Accuracy: 78.0%\n"
     ]
    }
   ],
   "source": [
    "# Comparison\n",
    "print(f\"ID3 Accuracy: {round(acc_id3 * 100, 2)}%\")\n",
    "print(f\"CART Accuracy: {round(acc_cart * 100, 2)}%\")\n",
    "print(f\"Naive Bayes Accuracy: {round(acc_nb * 100, 2)}%\")"
   ]
  },
  {
   "cell_type": "code",
   "execution_count": 71,
   "id": "92d19135",
   "metadata": {},
   "outputs": [
    {
     "name": "stdout",
     "output_type": "stream",
     "text": [
      "\n",
      "ID3 Metrics:\n",
      "Accuracy : 85.00%\n",
      "Precision: 23.81%\n",
      "Recall   : 10.20%\n",
      "F1 Score : 14.29%\n",
      "\n",
      "CART Metrics:\n",
      "Accuracy : 88.50%\n",
      "Precision: 61.54%\n",
      "Recall   : 16.33%\n",
      "F1 Score : 25.81%\n",
      "\n",
      "Naive Bayes Metrics:\n",
      "Accuracy : 78.00%\n",
      "Precision: 27.59%\n",
      "Recall   : 48.98%\n",
      "F1 Score : 35.29%\n"
     ]
    }
   ],
   "source": [
    "from sklearn.metrics import accuracy_score, precision_score, recall_score, f1_score\n",
    "y_val_true = [int(y) for y in y_val]\n",
    "id3_pred = [int(p) for p in id3_preds]\n",
    "cart_pred = [int(p) for p in cart_preds]\n",
    "nb_pred = [int(p) for p in nb_preds]\n",
    "def print_metrics(name, y_true, y_pred):\n",
    "    print(f\"\\n{name} Metrics:\")\n",
    "    print(f\"Accuracy : {accuracy_score(y_true, y_pred) * 100:.2f}%\")\n",
    "    print(f\"Precision: {precision_score(y_true, y_pred) * 100:.2f}%\")\n",
    "    print(f\"Recall   : {recall_score(y_true, y_pred) * 100:.2f}%\")\n",
    "    print(f\"F1 Score : {f1_score(y_true, y_pred) * 100:.2f}%\")\n",
    "print_metrics(\"ID3\", y_val_true, id3_pred)\n",
    "print_metrics(\"CART\", y_val_true, cart_pred)\n",
    "print_metrics(\"Naive Bayes\", y_val_true, nb_pred)"
   ]
  },
  {
   "cell_type": "code",
   "execution_count": 72,
   "id": "0470010d",
   "metadata": {},
   "outputs": [
    {
     "name": "stdout",
     "output_type": "stream",
     "text": [
      "Best Algorithm: CART\n"
     ]
    }
   ],
   "source": [
    "#best model classifier\n",
    "best_model = max([('ID3', acc_id3), ('CART', acc_cart), ('NB', acc_nb)], key=lambda x: x[1])[0]\n",
    "print(f\"Best Algorithm: {best_model}\")"
   ]
  },
  {
   "cell_type": "code",
   "execution_count": 73,
   "id": "cf89728a",
   "metadata": {},
   "outputs": [],
   "source": [
    "# Final Predictions\n",
    "if best_model == 'ID3':\n",
    "    final_preds = [predict_id3(id3_tree, x) for x in X_pred]\n",
    "elif best_model == 'CART':\n",
    "    final_preds = [predict_cart(cart_tree, x) for x in X_pred]\n",
    "else:\n",
    "    final_preds = [predict_naive_bayes(nb_model, x) for x in X_pred]"
   ]
  },
  {
   "cell_type": "code",
   "execution_count": 74,
   "id": "c201cad5",
   "metadata": {},
   "outputs": [],
   "source": [
    "# Reverse label encoding\n",
    "label_decoder = {v: k for k, v in encoders['y'].items()} if 'y' in encoders else {0: 'no', 1: 'yes'}\n",
    "final_preds_decoded = [label_decoder[int(p)] for p in final_preds]"
   ]
  },
  {
   "cell_type": "code",
   "execution_count": 75,
   "id": "9f3b53d6",
   "metadata": {},
   "outputs": [
    {
     "name": "stdout",
     "output_type": "stream",
     "text": [
      "Final Predictions:\n",
      "no no no no no no no no no no no no no no no no no no no no no no no no no no no no no no no no no yes no no no no no no no no no no no no no no no no no no no no no no no no yes yes no no no no no no no no no no no no no no no no no no no no no no no no no no no no no no no no no no no no no no no no no no no no no no no no no no no no no no no no no no no no no\n"
     ]
    }
   ],
   "source": [
    "print(\"Final Predictions:\")\n",
    "print(\" \".join(final_preds_decoded))"
   ]
  }
 ],
 "metadata": {
  "kernelspec": {
   "display_name": "Python 3 (ipykernel)",
   "language": "python",
   "name": "python3"
  },
  "language_info": {
   "codemirror_mode": {
    "name": "ipython",
    "version": 3
   },
   "file_extension": ".py",
   "mimetype": "text/x-python",
   "name": "python",
   "nbconvert_exporter": "python",
   "pygments_lexer": "ipython3",
   "version": "3.11.5"
  }
 },
 "nbformat": 4,
 "nbformat_minor": 5
}
